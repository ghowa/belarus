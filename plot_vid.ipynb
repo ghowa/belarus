{
 "cells": [
  {
   "cell_type": "code",
   "execution_count": null,
   "id": "e55055f0",
   "metadata": {},
   "outputs": [],
   "source": [
    "import pandas as pd\n",
    "import json\n",
    "from collections import defaultdict\n",
    "import matplotlib.pyplot as plt\n",
    "import numpy as np\n",
    "import cv2"
   ]
  },
  {
   "cell_type": "code",
   "execution_count": null,
   "id": "a57ecf57",
   "metadata": {},
   "outputs": [],
   "source": [
    "categories = []\n",
    "with open(\"bandera-v4.0.0-categories\") as f:\n",
    "    categories = f.read().split(\"\\n\")\n",
    "\n",
    "with open(\"test2.mp4.json\") as f:\n",
    "    data = json.load(f)"
   ]
  },
  {
   "cell_type": "code",
   "execution_count": null,
   "id": "ebaa48f0",
   "metadata": {},
   "outputs": [],
   "source": [
    "def compute_frames_diff(vid_path, vid_name):\n",
    "    print(\"Computing\", vid_path, vid_name)\n",
    "    stream = cv2.VideoCapture(vid_path + \"/\" + vid_name)\n",
    "    success, previous_frame = stream.read()\n",
    "    print(success)\n",
    "    frame_count = 0\n",
    "\n",
    "    output = open(vid_name + \".csv\", \"w\")\n",
    "\n",
    "    while success:\n",
    "        success, frame = stream.read()\n",
    "        try:\n",
    "            diff = cv2.matchTemplate(frame, previous_frame, cv2.TM_CCORR_NORMED)\n",
    "        except cv2.error:\n",
    "            print('cv2 error at frame', frame_count)\n",
    "\n",
    "        minVal, maxVal, minLoc, maxLoc = cv2.minMaxLoc(diff)\n",
    "        output.write(str(frame_count)+\";\"+str(maxVal)+\"\\r\\n\")\n",
    "\n",
    "        # cv2.imwrite(\"frame%d.jpg\" % count, frame)     # save frame as JPEG file\n",
    "        previous_frame = frame\n",
    "        frame_count += 1\n",
    "\n",
    "    output.close()"
   ]
  },
  {
   "cell_type": "code",
   "execution_count": null,
   "id": "7656a47d",
   "metadata": {},
   "outputs": [],
   "source": [
    "print(compute_frames_diff(\".\", \"test2.mp4\"))"
   ]
  },
  {
   "cell_type": "code",
   "execution_count": null,
   "id": "24f026cc",
   "metadata": {},
   "outputs": [],
   "source": [
    "diffs = []\n",
    "with open(\"test2.mp4.csv\") as f:\n",
    "    file = f.read()\n",
    "for line in file.split(\"\\n\"):\n",
    "    try:\n",
    "        diffs.append(float(line.split(\";\")[1]))\n",
    "    except IndexError:\n",
    "        print(\"ende?\")\n",
    "        continue\n",
    "len(diffs)"
   ]
  },
  {
   "cell_type": "code",
   "execution_count": null,
   "id": "15baeb57",
   "metadata": {},
   "outputs": [],
   "source": [
    "area = data['width']*data['height']\n",
    "frames = data['frames']\n",
    "per_label = defaultdict(list)\n",
    "\n",
    "for ann in data['annotations']:\n",
    "    if ann['score'] < 0.6:\n",
    "        continue\n",
    "    per_label[ann['category_id']].append((ann['image_id'], ann['area']/area))\n",
    "\n",
    "#plot\n",
    "fig, ax = plt.subplots(figsize=(32, 18))\n",
    "    \n",
    "# make sure colors don't repeat\n",
    "ax.set_prop_cycle('color',plt.cm.tab20(np.linspace(0, 1, len(set(per_label.keys())))))\n",
    "\n",
    "x_vals = np.arange(frames)\n",
    "\n",
    "# plot frame diffs\n",
    "ax.plot(range(len(diffs)), diffs)\n",
    "\n",
    "for label, frame in per_label.items():\n",
    "    x, y = zip(*frame)\n",
    "    ax.plot(x, y, 'o', label=categories[label],)\n",
    "\n",
    "ax.set_xlabel(f\"Frame Number\")\n",
    "ax.set_ylabel(f\"Percentage within frame\")\n",
    "ax.set_title(f\"Symbols per Frame\")\n",
    "ax.legend()\n",
    "    \n",
    "plt.ylim(0, 1)\n",
    "\n",
    "plt.show()\n",
    "plt.close() "
   ]
  }
 ],
 "metadata": {
  "kernelspec": {
   "display_name": "Python 3 (ipykernel)",
   "language": "python",
   "name": "python3"
  },
  "language_info": {
   "codemirror_mode": {
    "name": "ipython",
    "version": 3
   },
   "file_extension": ".py",
   "mimetype": "text/x-python",
   "name": "python",
   "nbconvert_exporter": "python",
   "pygments_lexer": "ipython3",
   "version": "3.9.9"
  }
 },
 "nbformat": 4,
 "nbformat_minor": 5
}

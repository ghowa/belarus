{
 "cells": [
  {
   "cell_type": "code",
   "execution_count": null,
   "id": "cdd9a86e",
   "metadata": {},
   "outputs": [],
   "source": [
    "import pandas as pd\n",
    "import matplotlib.pyplot as plt"
   ]
  },
  {
   "cell_type": "code",
   "execution_count": null,
   "id": "db6c6bcd",
   "metadata": {},
   "outputs": [],
   "source": [
    "# cleanup\n",
    "data = pd.read_json(\"data_copy_5.json\", orient=\"split\")\n",
    "data.to_json(\"data_copy_5.json\", orient=\"split\", indent=4, index=False)"
   ]
  },
  {
   "cell_type": "code",
   "execution_count": null,
   "id": "7ee328e7",
   "metadata": {},
   "outputs": [],
   "source": [
    "data = pd.read_json(\"tmp.json\", orient=\"split\")"
   ]
  },
  {
   "cell_type": "code",
   "execution_count": null,
   "id": "84eb26e8",
   "metadata": {},
   "outputs": [],
   "source": [
    "first = set([1])\n",
    "is_first = first.issubset\n",
    "first_data = data[[is_first(l) for l in data.search_id.values.tolist()]]"
   ]
  },
  {
   "cell_type": "code",
   "execution_count": null,
   "id": "c9f59ca1",
   "metadata": {
    "scrolled": true
   },
   "outputs": [],
   "source": [
    "# convert filename to date\n",
    "first_data['date'] = first_data['file'].str.replace('data/', '', regex=True)\n",
    "first_data['date'] = first_data['date'].str.replace('.json', '', regex=True)\n",
    "first_data['date'] = pd.to_datetime(first_data['date'])\n",
    "\n",
    "# get rid of other search_ids\n",
    "for index, row in first_data.iterrows():\n",
    "    first_data.at[index,'position'] = row['position'][row['search_id'].index(1)]\n",
    "    first_data.at[index,'search_id'] = row['search_id'][row['search_id'].index(1)]\n",
    "    "
   ]
  },
  {
   "cell_type": "code",
   "execution_count": null,
   "id": "6acc1efb",
   "metadata": {
    "scrolled": false
   },
   "outputs": [],
   "source": [
    "first_data_filtered = first_data[first_data['position']<=10]\n",
    "\n",
    "ids = set(first_data_filtered['id'])\n",
    "\n",
    "tmp = {}\n",
    "\n",
    "for date in set(first_data_filtered['date']):\n",
    "    for vid in ids:\n",
    "        try:\n",
    "            place = first_data_filtered.loc[lambda df: df['id'] == vid].loc[lambda df: df['date']==date]['position'].values[0]\n",
    "        except IndexError:\n",
    "            place = None\n",
    "        try:\n",
    "            tmp[vid].append(place)\n",
    "        except KeyError:\n",
    "            tmp[vid] = [place]"
   ]
  },
  {
   "cell_type": "code",
   "execution_count": null,
   "id": "3adf1c83",
   "metadata": {
    "scrolled": false
   },
   "outputs": [],
   "source": [
    "df = pd.DataFrame(tmp, index = set(first_data_filtered['date']))\n",
    "df.plot(legend=False, figsize=(80,8), style='o-').invert_yaxis()"
   ]
  },
  {
   "cell_type": "code",
   "execution_count": null,
   "id": "e3dca0cc",
   "metadata": {},
   "outputs": [],
   "source": []
  }
 ],
 "metadata": {
  "kernelspec": {
   "display_name": "Python 3 (ipykernel)",
   "language": "python",
   "name": "python3"
  },
  "language_info": {
   "codemirror_mode": {
    "name": "ipython",
    "version": 3
   },
   "file_extension": ".py",
   "mimetype": "text/x-python",
   "name": "python",
   "nbconvert_exporter": "python",
   "pygments_lexer": "ipython3",
   "version": "3.9.9"
  }
 },
 "nbformat": 4,
 "nbformat_minor": 5
}

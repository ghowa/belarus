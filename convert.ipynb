{
 "cells": [
  {
   "cell_type": "code",
   "execution_count": 1,
   "id": "543cbea0",
   "metadata": {},
   "outputs": [],
   "source": [
    "import warnings\n",
    "warnings.simplefilter(action='ignore', category=FutureWarning)\n",
    "import pandas as pd\n",
    "import json\n",
    "import os\n",
    "from tqdm import tqdm\n",
    "from json import JSONDecodeError"
   ]
  },
  {
   "cell_type": "code",
   "execution_count": 2,
   "id": "cabd9dc8",
   "metadata": {},
   "outputs": [],
   "source": [
    "loaded = []\n",
    "previous = pd.read_json(\"tmp.json\", orient=\"split\")"
   ]
  },
  {
   "cell_type": "code",
   "execution_count": 3,
   "id": "1489ae97",
   "metadata": {},
   "outputs": [
    {
     "data": {
      "text/plain": [
       "array(['20210623.json', '20210623.json', '20210623.json', ...,\n",
       "       '20210219.json', '20210219.json', '20210219.json'], dtype=object)"
      ]
     },
     "execution_count": 3,
     "metadata": {},
     "output_type": "execute_result"
    }
   ],
   "source": [
    "p = previous['file'].str.replace(\"data/\", \"\")\n",
    "#TODO: Load data, append new data"
   ]
  },
  {
   "cell_type": "code",
   "execution_count": null,
   "id": "21f285a6",
   "metadata": {
    "scrolled": false
   },
   "outputs": [
    {
     "name": "stderr",
     "output_type": "stream",
     "text": [
      " 55%|██████████████████████████████████████████████████████████████████████████████████████████████████████████▍                                                                                     | 271/489 [10:04:06<19:20:52, 319.51s/it]"
     ]
    }
   ],
   "source": [
    "# prepare data\n",
    "data = pd.DataFrame()\n",
    "for f in tqdm(sorted(os.listdir(\"data\"))):\n",
    "    if f in p.values:\n",
    "        continue\n",
    "    try:\n",
    "        with open(\"data/\"+f) as f:\n",
    "            j = json.load(f)\n",
    "            position = [1]*100\n",
    "            for item in j[\"items\"]:\n",
    "                line = {}\n",
    "                line[\"search_id\"] = item[\"searchId\"]\n",
    "                line[\"file\"] = f.name\n",
    "                line[\"position\"] = []\n",
    "                for search in item[\"searchId\"]:\n",
    "                    line[\"position\"].append(position[search])\n",
    "                    position[search] += 1\n",
    "                line[\"id\"] = item[\"id\"]\n",
    "                line[\"title\"] = item[\"snippet\"][\"localized\"][\"title\"]\n",
    "                try:\n",
    "                    line[\"keywords\"] = item[\"snippet\"][\"tags\"]\n",
    "                except KeyError:\n",
    "                    line[\"keywords\"] = []\n",
    "                line[\"channel\"] = item[\"snippet\"][\"channelTitle\"]\n",
    "                line[\"upload\"] = item[\"snippet\"][\"publishedAt\"]\n",
    "                try:\n",
    "                    line[\"comments\"] = item[\"statistics\"][\"commentCount\"]\n",
    "                except KeyError:\n",
    "                    line[\"comments\"] = None\n",
    "                try:\n",
    "                    line[\"likes\"] = item[\"statistics\"][\"likeCount\"]\n",
    "                except KeyError:\n",
    "                    line[\"likes\"] = None\n",
    "                try:\n",
    "                    line[\"dislikes\"] = item[\"statistics\"][\"dislikeCount\"]\n",
    "                except KeyError:\n",
    "                    line[\"dislikes\"] = None\n",
    "                try:\n",
    "                    line[\"favorites\"] = item[\"statistics\"][\"favoriteCount\"]\n",
    "                except KeyError:\n",
    "                    line[\"favorites\"] = None\n",
    "                try:\n",
    "                    line[\"views\"] = item[\"statistics\"][\"viewCount\"]\n",
    "                except KeyError:\n",
    "                    line[\"views\"] = None\n",
    "                data = data.append(line, ignore_index=True)\n",
    "            data.to_json(\"data.json\", orient=\"split\")           \n",
    "    except IsADirectoryError:\n",
    "         continue\n",
    "    except JSONDecodeError:\n",
    "        continue\n",
    "    "
   ]
  },
  {
   "cell_type": "code",
   "execution_count": null,
   "id": "266f3162",
   "metadata": {},
   "outputs": [],
   "source": []
  }
 ],
 "metadata": {
  "kernelspec": {
   "display_name": "Python 3 (ipykernel)",
   "language": "python",
   "name": "python3"
  },
  "language_info": {
   "codemirror_mode": {
    "name": "ipython",
    "version": 3
   },
   "file_extension": ".py",
   "mimetype": "text/x-python",
   "name": "python",
   "nbconvert_exporter": "python",
   "pygments_lexer": "ipython3",
   "version": "3.9.9"
  }
 },
 "nbformat": 4,
 "nbformat_minor": 5
}
